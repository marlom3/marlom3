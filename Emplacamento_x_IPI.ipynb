{
  "nbformat": 4,
  "nbformat_minor": 0,
  "metadata": {
    "colab": {
      "private_outputs": true,
      "provenance": []
    },
    "kernelspec": {
      "name": "python3",
      "display_name": "Python 3"
    },
    "language_info": {
      "name": "python"
    }
  },
  "cells": [
    {
      "cell_type": "code",
      "execution_count": null,
      "metadata": {
        "id": "3B2YReNjTWc6"
      },
      "outputs": [],
      "source": [
        "\n",
        "!pip install ipeadatapy  #Instalando o pacote 'ipeadatapy'"
      ]
    },
    {
      "cell_type": "code",
      "source": [
        "# Carregando pacotes\n",
        "import pandas as pd\n",
        "import ipeadatapy\n",
        "import matplotlib.pyplot as plt\n",
        "\n",
        "# Obtendo serie com dados sobre emplacamento de veículos\n",
        "emplacamentos = ipeadatapy.timeseries('FENABRAVE12_VENDAUTO12')\n",
        "emplacamentos.reset_index(inplace=True)\n",
        "emplacamentos = emplacamentos.loc[(emplacamentos[\"DATE\"] >= \"2018-01-01\") & (emplacamentos[\"DATE\"] < \"2023-01-01\"),\n",
        "                                  \"VALUE (Unidade)\"]\n",
        "emplacamentos.rename(\"emplacamentos\", inplace=True)\n",
        "\n",
        "# Obtendo serie com dados sobre IPI arrecadado sobre automóveis\n",
        "ipi = ipeadatapy.timeseries('SRF12_IPIVEI12')\n",
        "ipi.reset_index(inplace=True)\n",
        "ipi = ipi.loc[(ipi[\"DATE\"] >= \"2018-01-01\") & (ipi[\"DATE\"] < \"2023-01-01\"),\n",
        "                                  \"VALUE (R$)\"]\n",
        "ipi.rename(\"ipi\", inplace=True)\n",
        "\n",
        "carros = pd.concat([emplacamentos.reset_index(drop=True),\n",
        "                    ipi.reset_index(drop=True)],\n",
        "                   axis=1)\n",
        "carros"
      ],
      "metadata": {
        "id": "UTug0ygOTfwe"
      },
      "execution_count": null,
      "outputs": []
    },
    {
      "cell_type": "markdown",
      "source": [
        "Relação de emplacamento x IPI mostrado em gráfico de dispersão."
      ],
      "metadata": {
        "id": "uj9HxTlBTvwx"
      }
    },
    {
      "cell_type": "code",
      "source": [
        "carros.plot.scatter(x='emplacamentos',y='ipi')\n",
        "plt.title('Relação Emplacamento x IPI')\n",
        "plt.show()\n"
      ],
      "metadata": {
        "id": "b_MMhAIKTljv"
      },
      "execution_count": null,
      "outputs": []
    },
    {
      "cell_type": "markdown",
      "source": [
        "Conjunto de treinamento"
      ],
      "metadata": {
        "id": "6l3fALaBUDgK"
      }
    },
    {
      "cell_type": "code",
      "source": [
        "from sklearn.model_selection import train_test_split\n",
        "\n",
        "treino, teste = train_test_split(carros, train_size=0.70, random_state=123)"
      ],
      "metadata": {
        "id": "yNXmVZbIUHMX"
      },
      "execution_count": null,
      "outputs": []
    },
    {
      "cell_type": "markdown",
      "source": [
        "Modelo linear da base treino"
      ],
      "metadata": {
        "id": "uXbab8aDUOjh"
      }
    },
    {
      "cell_type": "code",
      "source": [
        "import numpy as np\n",
        "from sklearn.linear_model import LinearRegression\n",
        "import statsmodels.api as sm\n",
        "\n",
        "X_treino = sm.add_constant(treino['emplacamentos'])\n",
        "y_treino = treino['ipi']\n",
        "\n",
        "reg = LinearRegression()\n",
        "\n",
        "modelo_estimado = reg.fit(X = X_treino, y = y_treino)"
      ],
      "metadata": {
        "id": "Vi8MctgzURmQ"
      },
      "execution_count": null,
      "outputs": []
    },
    {
      "cell_type": "markdown",
      "source": [
        "Dados observados e reta estimada pelo modelo linear"
      ],
      "metadata": {
        "id": "8HZYk8aoUeN3"
      }
    },
    {
      "cell_type": "code",
      "source": [
        "X_teste = sm.add_constant(teste['emplacamentos'])\n",
        "y_teste = teste['ipi']\n",
        "\n",
        "previsao = modelo_estimado.predict(X = X_teste)\n",
        "alfa = modelo_estimado.intercept_\n",
        "beta = modelo_estimado.coef_[1]\n",
        "\n",
        "teste.plot.scatter(x = 'emplacamentos', y = 'ipi', label = 'Observado')\n",
        "\n",
        "x_prev = np.linspace(teste['emplacamentos'].min(), teste['ipi'].max(), 100).reshape(-1,1)\n",
        "\n",
        "y_prev = alfa + beta * x_prev\n",
        "\n",
        "plt.plot(x_prev, y_prev, color = 'red', label = 'Modelo Estimado')\n",
        "plt.xlabel('Emplacamento')\n",
        "plt.ylabel('IPI')\n",
        "plt.title('Emplacamento x IPI')\n",
        "plt.show()"
      ],
      "metadata": {
        "id": "gvvVrP4_Ue9b"
      },
      "execution_count": null,
      "outputs": []
    }
  ]
}